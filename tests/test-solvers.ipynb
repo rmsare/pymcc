{
 "cells": [
  {
   "cell_type": "code",
   "execution_count": null,
   "metadata": {},
   "outputs": [],
   "source": [
    "import warnings\n",
    "warnings.filterwarnings('ignore')"
   ]
  },
  {
   "cell_type": "code",
   "execution_count": 2,
   "metadata": {},
   "outputs": [],
   "source": [
    "import numpy as np"
   ]
  },
  {
   "cell_type": "code",
   "execution_count": 3,
   "metadata": {},
   "outputs": [],
   "source": [
    "from scipy import linalg\n",
    "import matplotlib.pyplot as plt"
   ]
  },
  {
   "cell_type": "code",
   "execution_count": 4,
   "metadata": {},
   "outputs": [],
   "source": [
    "from timeit import default_timer as timer"
   ]
  },
  {
   "cell_type": "code",
   "execution_count": 5,
   "metadata": {},
   "outputs": [],
   "source": [
    "TOLERANCE = 1.0e-10"
   ]
  },
  {
   "cell_type": "code",
   "execution_count": 6,
   "metadata": {},
   "outputs": [],
   "source": [
    "def lu_solve(A, b):\n",
    "    lu, piv = linalg.lu_factor(A)\n",
    "    x = linalg.lu_solve((lu, piv), b)\n",
    "    return x"
   ]
  },
  {
   "cell_type": "code",
   "execution_count": 7,
   "metadata": {},
   "outputs": [],
   "source": [
    "def gs_solve(A, b, n_iter=1000, verbose=False):\n",
    "    if verbose:\n",
    "        print('-' * 10)\n",
    "        print('Gauss Seidel solver')\n",
    "        print('-' * 10)\n",
    "        \n",
    "    nrows, ncols = A.shape\n",
    "    x = np.zeros_like(b)\n",
    "    x_new = np.zeros_like(b)\n",
    "\n",
    "    if A.shape[0] != b.shape[0]:\n",
    "        raise ValueError('A and b have different number of rows')\n",
    "\n",
    "    for k in range(n_iter):\n",
    "        for i in range(nrows):\n",
    "            x_new[i] = b[i] / A[i, i]\n",
    "            if verbose and k % 250 == 0:\n",
    "                print('-' * 10)\n",
    "                print(f'iter: {k}')\n",
    "                print(f'b[{i}] = {b[i]}, A[{i}, {i}] = {A[i, i]}, quot = {b[i] / A[i, i]}')\n",
    "            for j in range(nrows):\n",
    "                if i != j:\n",
    "                    if verbose and k % 250 == 0:\n",
    "                        print(f'A[{i}, {j}] = {A[i, j]}, A[{i}, {i}] = {A[i, i]}, quot = {A[i, j] / A[i, i]}')\n",
    "                        print(f'x[{j}] = {x[j]}')\n",
    "                    x_new[i] = x_new[i] - ((A[i, j] / A[i, i]) * x[j])\n",
    "                    x[i] = x_new[i]\n",
    "\n",
    "    return x"
   ]
  },
  {
   "cell_type": "code",
   "execution_count": 8,
   "metadata": {},
   "outputs": [],
   "source": [
    "def cg_solve(A, b, tol=TOLERANCE, verbose=False):\n",
    "    if verbose:\n",
    "        print('-' * 10)\n",
    "        print('Conjugate gradient solver')\n",
    "        print('-' * 10)\n",
    "        print(f'cond(A) = {np.linalg.cond(A)}')\n",
    "    \n",
    "    EPSILON = 1.0e-10\n",
    "    \n",
    "    if np.trace(A)< 0:\n",
    "        raise ValueError('A is not positive semi-definite!')\n",
    "    \n",
    "    nrows, ncols = A.shape\n",
    "    \n",
    "    x = np.zeros_like(b)\n",
    "    r = b.copy()\n",
    "    r_old = np.zeros_like(b)\n",
    "    p = r.copy()\n",
    "    Ap = np.zeros_like(b)\n",
    "    \n",
    "    for i in range(nrows):\n",
    "        Ap = A.dot(p)\n",
    "\n",
    "        alpha = np.dot(r, r) / max(np.dot(p, Ap), EPSILON)\n",
    "        if verbose:\n",
    "            print('-' * 10)\n",
    "            print(f'coord: x{i}')\n",
    "            print(f'rTr = {np.dot(r, r)}, pTAp = {np.dot(p, Ap)}, quot = {alpha}')\n",
    "            \n",
    "        x = x + alpha * p\n",
    "        r = r - alpha * Ap\n",
    "        \n",
    "        if np.linalg.norm(r, 2) < tol:\n",
    "            print('CG concverged. Exiting...')\n",
    "            break\n",
    "        \n",
    "        beta = np.dot(r, r) / max(np.dot(r_old, r_old), EPSILON)\n",
    "        if verbose:\n",
    "            print(f'rTr = {np.dot(r, r)}, roTro = {np.dot(r_old, r_old)}, quot = {beta}')\n",
    "            \n",
    "        p = r + beta * p\n",
    "        r_old = r\n",
    "    \n",
    "    return x"
   ]
  },
  {
   "cell_type": "code",
   "execution_count": 27,
   "metadata": {},
   "outputs": [],
   "source": [
    "def cg_solve_scipy(A, b, tol=TOLERANCE):\n",
    "    from scipy.sparse.linalg import cg\n",
    "    x, info = cg(A, b, tol=TOLERANCE)\n",
    "    if info != 0:\n",
    "        print(f'Failed to solve! Info = {info}')\n",
    "    return x"
   ]
  },
  {
   "cell_type": "code",
   "execution_count": 10,
   "metadata": {},
   "outputs": [],
   "source": [
    "def cg_solve_preconditioned(A, b, p, tol=TOLERANCE):\n",
    "    pass    "
   ]
  },
  {
   "cell_type": "code",
   "execution_count": 28,
   "metadata": {},
   "outputs": [],
   "source": [
    "def test_solvers(A, b, verbose=False):\n",
    "    start = timer()\n",
    "    x_lu = lu_solve(A, b)\n",
    "    stop = timer()\n",
    "    print(f'LU:\\t\\t{stop-start:.0e} s')\n",
    "    start = timer()\n",
    "    x_gs = gs_solve(A, b)\n",
    "    stop = timer()\n",
    "    print(f'GS:\\t\\t{stop-start:.0e} s')\n",
    "    start = timer()\n",
    "    x_cg = cg_solve_scipy(A, b)\n",
    "    stop = timer()\n",
    "    print(f'CG:\\t\\t{stop-start:.0e} s')\n",
    "    return x_lu, x_gs, x_cg"
   ]
  },
  {
   "cell_type": "code",
   "execution_count": 12,
   "metadata": {},
   "outputs": [],
   "source": [
    "def test_on_spline(i):\n",
    "    A = np.loadtxt(f'matrix_examples/A{i}.txt', delimiter=', ')\n",
    "    b = np.loadtxt(f'matrix_examples/b{i}.txt', delimiter=', ')\n",
    "    x_true = np.loadtxt(f'matrix_examples/x{i}.txt', delimiter=', ')\n",
    "\n",
    "    plt.figure()\n",
    "    im = plt.imshow(A, cmap='hot')\n",
    "    plt.colorbar(im)\n",
    "\n",
    "    x_lu, x_gs, x_cg = test_solvers(A, b)\n",
    "        \n",
    "    plt.figure()\n",
    "    plt.plot(x_true, x_lu, 'k.')\n",
    "    plt.xlabel('tpsdemo LU solution')\n",
    "    plt.ylabel('scipy.linalg.lu_solve')\n",
    "\n",
    "    fig, ax = plt.subplots(4, 1)\n",
    "    idx = np.arange(0, len(x_lu))\n",
    "\n",
    "    ax[0].plot(idx, x_true, 'k.')\n",
    "    ax[0].set_ylabel('LU\\n(tpsdemo)')\n",
    "    _ = ax[0].set_xticks(idx)\n",
    "    ax[0].set_xticklabels([])\n",
    "\n",
    "    ax[1].plot(idx, x_lu, 'k.')\n",
    "    ax[1].set_ylabel('LU\\n(scipy)')\n",
    "    _ = ax[1].set_xticks(idx)\n",
    "    ax[1].set_xticklabels([])\n",
    "\n",
    "    ax[2].plot(idx, x_gs, 'k.')\n",
    "    ax[2].set_ylabel('GS')\n",
    "    _ = ax[2].set_xticks(idx)\n",
    "    ax[2].set_xticklabels([])\n",
    "\n",
    "    ax[3].plot(idx, x_cg, 'k.')\n",
    "    ax[3].set_ylabel('CG\\n(scipy)')\n",
    "    _ = ax[3].set_xticks(idx)\n",
    "\n",
    "    plt.show()"
   ]
  },
  {
   "cell_type": "markdown",
   "metadata": {},
   "source": [
    "## Example: 2 x 2, integer coefficients"
   ]
  },
  {
   "cell_type": "code",
   "execution_count": 29,
   "metadata": {},
   "outputs": [],
   "source": [
    "A = np.array([[4, 1], [1, 3]], dtype=float)\n",
    "b = np.array([1, 2], dtype=float)"
   ]
  },
  {
   "cell_type": "code",
   "execution_count": 30,
   "metadata": {},
   "outputs": [
    {
     "data": {
      "text/plain": [
       "<matplotlib.colorbar.Colorbar at 0x7fc9b3487160>"
      ]
     },
     "execution_count": 30,
     "metadata": {},
     "output_type": "execute_result"
    },
    {
     "data": {
      "image/png": "[encoded data removed]",
      "text/plain": [
       "<Figure size 432x288 with 2 Axes>"
      ]
     },
     "metadata": {
      "needs_background": "light"
     },
     "output_type": "display_data"
    }
   ],
   "source": [
    "im = plt.imshow(A, cmap='hot')\n",
    "plt.colorbar(im)"
   ]
  },
  {
   "cell_type": "code",
   "execution_count": 31,
   "metadata": {},
   "outputs": [
    {
     "name": "stdout",
     "output_type": "stream",
     "text": [
      "LU:\t\t2e-04 s\n",
      "GS:\t\t4e-03 s\n",
      "CG:\t\t4e-04 s\n"
     ]
    }
   ],
   "source": [
    "x_lu, x_gs, x_cg = test_solvers(A, b)"
   ]
  },
  {
   "cell_type": "code",
   "execution_count": 32,
   "metadata": {},
   "outputs": [
    {
     "data": {
      "text/plain": [
       "Text(0, 0.5, 'CG solution')"
      ]
     },
     "execution_count": 32,
     "metadata": {},
     "output_type": "execute_result"
    },
    {
     "data": {
      "image/png": "[encoded data removed]",
      "text/plain": [
       "<Figure size 432x288 with 3 Axes>"
      ]
     },
     "metadata": {
      "needs_background": "light"
     },
     "output_type": "display_data"
    }
   ],
   "source": [
    "fig, ax = plt.subplots(3, 1)\n",
    "\n",
    "idx = np.arange(len(x_lu))\n",
    "ax[0].plot(idx, x_lu, 'k.')\n",
    "ax[0].set_ylabel('LU solution')\n",
    "ax[0].set_xticklabels([])\n",
    "\n",
    "ax[1].plot(idx, x_gs, 'k.')\n",
    "ax[1].set_ylabel('GS solution')\n",
    "ax[1].set_xticklabels([])\n",
    "\n",
    "ax[2].plot(idx, x_cg, 'k.')\n",
    "ax[2].set_ylabel('CG solution')"
   ]
  },
  {
   "cell_type": "markdown",
   "metadata": {},
   "source": [
    "## Example: first spline matrix"
   ]
  },
  {
   "cell_type": "code",
   "execution_count": 33,
   "metadata": {},
   "outputs": [],
   "source": [
    "A = np.loadtxt(f'matrix_examples/A0.txt', delimiter=', ')\n",
    "b = np.loadtxt(f'matrix_examples/b0.txt', delimiter=', ')\n",
    "x_true = np.loadtxt(f'matrix_examples/x0.txt', delimiter=', ')"
   ]
  },
  {
   "cell_type": "code",
   "execution_count": 34,
   "metadata": {},
   "outputs": [
    {
     "data": {
      "text/plain": [
       "<matplotlib.colorbar.Colorbar at 0x7fc9b32a6da0>"
      ]
     },
     "execution_count": 34,
     "metadata": {},
     "output_type": "execute_result"
    },
    {
     "data": {
      "image/png": "[encoded data removed]",
      "text/plain": [
       "<Figure size 432x288 with 2 Axes>"
      ]
     },
     "metadata": {
      "needs_background": "light"
     },
     "output_type": "display_data"
    }
   ],
   "source": [
    "plt.figure()\n",
    "im = plt.imshow(A, cmap='hot')\n",
    "plt.colorbar(im)"
   ]
  },
  {
   "cell_type": "code",
   "execution_count": 35,
   "metadata": {},
   "outputs": [
    {
     "data": {
      "text/plain": [
       "<matplotlib.colorbar.Colorbar at 0x7fc9b31e40f0>"
      ]
     },
     "execution_count": 35,
     "metadata": {},
     "output_type": "execute_result"
    },
    {
     "data": {
      "image/png": "[encoded data removed]",
      "text/plain": [
       "<Figure size 432x288 with 2 Axes>"
      ]
     },
     "metadata": {
      "needs_background": "light"
     },
     "output_type": "display_data"
    }
   ],
   "source": [
    "plt.figure()\n",
    "im = plt.imshow(x_true.reshape((x_true.shape[0], 1)), cmap='hot')\n",
    "plt.colorbar(im)"
   ]
  },
  {
   "cell_type": "code",
   "execution_count": 36,
   "metadata": {},
   "outputs": [
    {
     "name": "stdout",
     "output_type": "stream",
     "text": [
      "LU:\t\t3e-04 s\n",
      "GS:\t\t6e-01 s\n",
      "Failed to solve! Info = 150\n",
      "CG:\t\t5e-03 s\n"
     ]
    }
   ],
   "source": [
    "x_lu, x_gs, x_cg = test_solvers(A, b, verbose=True)"
   ]
  },
  {
   "cell_type": "code",
   "execution_count": 39,
   "metadata": {},
   "outputs": [
    {
     "name": "stdout",
     "output_type": "stream",
     "text": [
      "GMRES:\t\t2e-03 s\n"
     ]
    }
   ],
   "source": [
    "from scipy.sparse.linalg import gmres\n",
    "start = timer()\n",
    "x_gmres, info = gmres(A, b, tol=TOLERANCE)\n",
    "stop = timer()\n",
    "print(f'GMRES:\\t\\t{stop-start:.0e} s')"
   ]
  },
  {
   "cell_type": "code",
   "execution_count": 40,
   "metadata": {},
   "outputs": [
    {
     "data": {
      "image/png": "[encoded data removed]",
      "text/plain": [
       "<Figure size 432x288 with 5 Axes>"
      ]
     },
     "metadata": {
      "needs_background": "light"
     },
     "output_type": "display_data"
    }
   ],
   "source": [
    "fig, ax = plt.subplots(5, 1)\n",
    "idx = np.arange(0, len(x_lu))\n",
    "\n",
    "ax[0].plot(idx, x_true, 'k.')\n",
    "ax[0].set_ylabel('LU\\n(tpsdemo)')\n",
    "_ = ax[0].set_xticks(idx)\n",
    "ax[0].set_xticklabels([])\n",
    "\n",
    "ax[1].plot(idx, x_lu, 'k.')\n",
    "ax[1].set_ylabel('LU\\n(scipy)')\n",
    "_ = ax[1].set_xticks(idx)\n",
    "ax[1].set_xticklabels([])\n",
    "\n",
    "ax[2].plot(idx, x_gs, 'k.')\n",
    "ax[2].set_ylabel('GS')\n",
    "_ = ax[2].set_xticks(idx)\n",
    "ax[2].set_xticklabels([])\n",
    "\n",
    "ax[3].plot(idx, x_cg, 'k.')\n",
    "ax[3].set_ylabel('CG\\n(scipy)')\n",
    "_ = ax[3].set_xticks(idx)\n",
    "\n",
    "ax[4].plot(idx, x_gmres, 'k.')\n",
    "ax[4].set_ylabel('GMRES\\n(scipy)')\n",
    "_ = ax[4].set_xticks(idx)"
   ]
  },
  {
   "cell_type": "markdown",
   "metadata": {},
   "source": [
    "## Examples: spline matrix"
   ]
  },
  {
   "cell_type": "code",
   "execution_count": 23,
   "metadata": {},
   "outputs": [
    {
     "name": "stdout",
     "output_type": "stream",
     "text": [
      "LU:\t\t1e-04 s\n",
      "GS:\t\t6e-01 s\n",
      "Failed to solve! Info = 150\n",
      "CG:\t\t9e-03 s\n"
     ]
    },
    {
     "data": {
      "image/png": "[encoded data removed]",
      "text/plain": [
       "<Figure size 432x288 with 2 Axes>"
      ]
     },
     "metadata": {
      "needs_background": "light"
     },
     "output_type": "display_data"
    },
    {
     "data": {
      "image/png": "[encoded data removed]",
      "text/plain": [
       "<Figure size 432x288 with 1 Axes>"
      ]
     },
     "metadata": {
      "needs_background": "light"
     },
     "output_type": "display_data"
    },
    {
     "data": {
      "image/png": "[encoded data removed]",
      "text/plain": [
       "<Figure size 432x288 with 4 Axes>"
      ]
     },
     "metadata": {
      "needs_background": "light"
     },
     "output_type": "display_data"
    }
   ],
   "source": [
    "test_on_spline(0)"
   ]
  },
  {
   "cell_type": "code",
   "execution_count": 24,
   "metadata": {},
   "outputs": [
    {
     "data": {
      "text/plain": [
       "0"
      ]
     },
     "execution_count": 24,
     "metadata": {},
     "output_type": "execute_result"
    }
   ],
   "source": [
    "info"
   ]
  },
  {
   "cell_type": "code",
   "execution_count": 25,
   "metadata": {},
   "outputs": [
    {
     "name": "stdout",
     "output_type": "stream",
     "text": [
      "14182000944706.055\n"
     ]
    }
   ],
   "source": [
    "print(np.linalg.cond(A))"
   ]
  },
  {
   "cell_type": "code",
   "execution_count": 43,
   "metadata": {},
   "outputs": [],
   "source": [
    "Ainv = linalg.inv(A)\n",
    "x_true = Ainv.dot(b)"
   ]
  },
  {
   "cell_type": "code",
   "execution_count": 42,
   "metadata": {},
   "outputs": [
    {
     "data": {
      "text/plain": [
       "<matplotlib.colorbar.Colorbar at 0x7fc9b35e4240>"
      ]
     },
     "execution_count": 42,
     "metadata": {},
     "output_type": "execute_result"
    },
    {
     "data": {
      "image/png": "[encoded data removed]",
      "text/plain": [
       "<Figure size 432x288 with 2 Axes>"
      ]
     },
     "metadata": {
      "needs_background": "light"
     },
     "output_type": "display_data"
    }
   ],
   "source": [
    "plt.figure()\n",
    "im = plt.imshow(Ainv, cmap='hot')\n",
    "plt.colorbar(im)"
   ]
  },
  {
   "cell_type": "code",
   "execution_count": 44,
   "metadata": {},
   "outputs": [
    {
     "data": {
      "text/plain": [
       "[<matplotlib.lines.Line2D at 0x7fc9b38163c8>]"
      ]
     },
     "execution_count": 44,
     "metadata": {},
     "output_type": "execute_result"
    },
    {
     "data": {
      "image/png": "[encoded data removed]",
      "text/plain": [
       "<Figure size 432x288 with 1 Axes>"
      ]
     },
     "metadata": {
      "needs_background": "light"
     },
     "output_type": "display_data"
    }
   ],
   "source": [
    "plt.plot(np.arange(len(x_true)), x_true, 'k.')"
   ]
  },
  {
   "cell_type": "code",
   "execution_count": 45,
   "metadata": {},
   "outputs": [
    {
     "data": {
      "text/plain": [
       "False"
      ]
     },
     "execution_count": 45,
     "metadata": {},
     "output_type": "execute_result"
    }
   ],
   "source": [
    "from scipy.sparse import issparse\n",
    "issparse(A)"
   ]
  },
  {
   "cell_type": "code",
   "execution_count": 46,
   "metadata": {},
   "outputs": [
    {
     "data": {
      "text/plain": [
       "0.92"
      ]
     },
     "execution_count": 46,
     "metadata": {},
     "output_type": "execute_result"
    }
   ],
   "source": [
    "np.sum(A != 0) / np.prod(A.shape)"
   ]
  },
  {
   "cell_type": "code",
   "execution_count": null,
   "metadata": {},
   "outputs": [],
   "source": []
  }
 ],
 "metadata": {
  "kernelspec": {
   "display_name": "Python 3",
   "language": "python",
   "name": "python3"
  },
  "language_info": {
   "codemirror_mode": {
    "name": "ipython",
    "version": 3
   },
   "file_extension": ".py",
   "mimetype": "text/x-python",
   "name": "python",
   "nbconvert_exporter": "python",
   "pygments_lexer": "ipython3",
   "version": "3.6.7"
  }
 },
 "nbformat": 4,
 "nbformat_minor": 4
}
