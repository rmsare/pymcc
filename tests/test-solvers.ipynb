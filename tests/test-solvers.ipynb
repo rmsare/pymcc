{
 "cells": [
  {
   "cell_type": "code",
   "execution_count": 1,
   "metadata": {},
   "outputs": [],
   "source": [
    "import numpy as np"
   ]
  },
  {
   "cell_type": "code",
   "execution_count": 2,
   "metadata": {},
   "outputs": [],
   "source": [
    "from scipy import linalg\n",
    "import matplotlib.pyplot as plt"
   ]
  },
  {
   "cell_type": "code",
   "execution_count": 3,
   "metadata": {},
   "outputs": [],
   "source": [
    "from timeit import default_timer as timer"
   ]
  },
  {
   "cell_type": "code",
   "execution_count": 88,
   "metadata": {},
   "outputs": [],
   "source": [
    "TOLERANCE = 1.0e-10"
   ]
  },
  {
   "cell_type": "code",
   "execution_count": 5,
   "metadata": {},
   "outputs": [],
   "source": [
    "def lu_solve(A, b):\n",
    "    lu, piv = linalg.lu_factor(A)\n",
    "    x = linalg.lu_solve((lu, piv), b)\n",
    "    return x"
   ]
  },
  {
   "cell_type": "code",
   "execution_count": 84,
   "metadata": {},
   "outputs": [],
   "source": [
    "def gs_solve(A, b, n_iter=10):\n",
    "    nrows, ncols = A.shape\n",
    "    x = np.zeros_like(b)\n",
    "    x_new = np.zeros_like(b)\n",
    "\n",
    "    if A.shape[0] != b.shape[0]:\n",
    "        raise ValueError('A and b have different number of rows')\n",
    "\n",
    "    for k in range(n_iter):\n",
    "        for i in range(nrows):\n",
    "            x_new[i] = b[i] / A[i, i]\n",
    "            for j in range(nrows):\n",
    "                if i != j:\n",
    "                    x_new[i] = x_new[i] - ((A[i, j] / A[i, i]) * x[j])\n",
    "                    x[i] = x_new[i]\n",
    "\n",
    "    return x"
   ]
  },
  {
   "cell_type": "code",
   "execution_count": 103,
   "metadata": {},
   "outputs": [],
   "source": [
    "def cg_solve(A, b, tol=TOLERANCE):\n",
    "    EPSILON = 1.0e-10\n",
    "    \n",
    "    if np.trace(A)< 0:\n",
    "        raise ValueError('A is not positive semi-definite!')\n",
    "    \n",
    "    nrows, ncols = A.shape\n",
    "    \n",
    "    x = np.zeros_like(b)\n",
    "    r = b.copy()\n",
    "    r_old = np.zeros_like(b)\n",
    "    p = r.copy()\n",
    "    Ap = np.zeros_like(b)\n",
    "    \n",
    "    for i in range(nrows):\n",
    "        r_old = r\n",
    "        Ap = A .dot(p)\n",
    "        \n",
    "        alpha = np.dot(r, r) / max(np.dot(p, Ap), EPSILON)\n",
    "        x = x + alpha * p\n",
    "        r = r - alpha * Ap\n",
    "        \n",
    "        if np.linalg.norm(r, 2) < tol:\n",
    "            break\n",
    "        \n",
    "        beta = np.dot(r, r) / max(np.dot(r_old, r_old), EPSILON)\n",
    "        p = r + beta * p\n",
    "    \n",
    "    return x"
   ]
  },
  {
   "cell_type": "code",
   "execution_count": null,
   "metadata": {},
   "outputs": [],
   "source": [
    "def cg_solve_preconditioned(A, b, p, tol=NORM_R_TOLERANCE):\n",
    "    pass    "
   ]
  },
  {
   "cell_type": "code",
   "execution_count": 110,
   "metadata": {},
   "outputs": [],
   "source": [
    "def test_solvers(A, b):\n",
    "    start = timer()\n",
    "    x_lu = lu_solve(A, b)\n",
    "    stop = timer()\n",
    "    print(f'LU:\\t\\t{stop-start:.0e} s')\n",
    "    start = timer()\n",
    "    x_gs = gs_solve(A, b)\n",
    "    stop = timer()\n",
    "    print(f'GS:\\t\\t{stop-start:.0e} s')\n",
    "    start = timer()\n",
    "    x_cg = cg_solve(A, b)\n",
    "    stop = timer()\n",
    "    print(f'CG:\\t\\t{stop-start:.0e} s')\n",
    "    return x_lu, x_gs, x_cg"
   ]
  },
  {
   "cell_type": "markdown",
   "metadata": {},
   "source": [
    "## Example: 2 x 2, integer coefficients"
   ]
  },
  {
   "cell_type": "code",
   "execution_count": 81,
   "metadata": {},
   "outputs": [],
   "source": [
    "A = np.array([[4, 1], [1, 3]], dtype=float)\n",
    "b = np.array([1, 2], dtype=float)"
   ]
  },
  {
   "cell_type": "code",
   "execution_count": 111,
   "metadata": {},
   "outputs": [
    {
     "name": "stdout",
     "output_type": "stream",
     "text": [
      "LU:\t\t3e-04 s\n",
      "GS:\t\t1e-04 s\n",
      "CG:\t\t2e-04 s\n"
     ]
    }
   ],
   "source": [
    "x_lu, x_gs, x_cg = test_solvers(A, b)"
   ]
  },
  {
   "cell_type": "code",
   "execution_count": 112,
   "metadata": {},
   "outputs": [
    {
     "data": {
      "text/plain": [
       "<matplotlib.colorbar.Colorbar at 0x7fe9bb6236a0>"
      ]
     },
     "execution_count": 112,
     "metadata": {},
     "output_type": "execute_result"
    },
    {
     "data": {
      "image/png": "[encoded data removed]",
      "text/plain": [
       "<Figure size 432x288 with 2 Axes>"
      ]
     },
     "metadata": {
      "needs_background": "light"
     },
     "output_type": "display_data"
    }
   ],
   "source": [
    "im = plt.imshow(A, cmap='hot')\n",
    "plt.colorbar(im)"
   ]
  },
  {
   "cell_type": "code",
   "execution_count": 113,
   "metadata": {},
   "outputs": [
    {
     "data": {
      "text/plain": [
       "Text(0, 0.5, 'CG solution')"
      ]
     },
     "execution_count": 113,
     "metadata": {},
     "output_type": "execute_result"
    },
    {
     "data": {
      "image/png": "[encoded data removed]",
      "text/plain": [
       "<Figure size 432x288 with 3 Axes>"
      ]
     },
     "metadata": {
      "needs_background": "light"
     },
     "output_type": "display_data"
    }
   ],
   "source": [
    "fig, ax = plt.subplots(3, 1)\n",
    "\n",
    "idx = np.arange(len(x_lu))\n",
    "ax[0].plot(idx, x_lu, 'k.')\n",
    "ax[0].set_ylabel('LU solution')\n",
    "ax[0].set_xticklabels([])\n",
    "\n",
    "ax[1].plot(idx, x_gs, 'k.')\n",
    "ax[1].set_ylabel('GS solution')\n",
    "ax[1].set_xticklabels([])\n",
    "\n",
    "ax[2].plot(idx, x_cg, 'k.')\n",
    "ax[2].set_ylabel('CG solution')"
   ]
  },
  {
   "cell_type": "markdown",
   "metadata": {},
   "source": [
    "## Example: 2 x 2, integer coefficients"
   ]
  },
  {
   "cell_type": "code",
   "execution_count": null,
   "metadata": {},
   "outputs": [],
   "source": []
  },
  {
   "cell_type": "markdown",
   "metadata": {},
   "source": [
    "## Example: spline matrix"
   ]
  },
  {
   "cell_type": "code",
   "execution_count": null,
   "metadata": {},
   "outputs": [],
   "source": []
  }
 ],
 "metadata": {
  "kernelspec": {
   "display_name": "Python 3",
   "language": "python",
   "name": "python3"
  },
  "language_info": {
   "codemirror_mode": {
    "name": "ipython",
    "version": 3
   },
   "file_extension": ".py",
   "mimetype": "text/x-python",
   "name": "python",
   "nbconvert_exporter": "python",
   "pygments_lexer": "ipython3",
   "version": "3.6.7"
  }
 },
 "nbformat": 4,
 "nbformat_minor": 4
}
